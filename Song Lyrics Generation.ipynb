{
 "cells": [
  {
   "cell_type": "code",
   "execution_count": 37,
   "metadata": {},
   "outputs": [],
   "source": [
    "data = \"\"\"Uth ja apni raakh se\n",
    "Tu udd ja ab talaash mein\n",
    "Parwaaz dekh parwane ki\n",
    "Aasman bhi sar uthayega\n",
    "Aayega apna time aayega\n",
    "Mere jaisa shaana lala\n",
    "Tujhe na mil payega\n",
    " \n",
    "Yeh shabdon ka jwala\n",
    "Meri bediyan pighlayega\n",
    "Jitna toone boya hai tu\n",
    "Utna hi to khaayega\n",
    "Aisa mera khwaab hai\n",
    "Jo darr ko bhi satayega\n",
    "Zinda mera khwaab\n",
    "Ab kaise tu dafnayega\n",
    " \n",
    "Ab hausle se jeene de\n",
    "Ab khauf nahi hai seene mein\n",
    "Har raaste ko cheerenge\n",
    "Hum kaamyabi chheenenge\n",
    "Sab kuchh mila paseene se\n",
    "Matlab bana ab jeene mein\n",
    " \n",
    "Kyon\n",
    "Kyon ki apna time aayega\n",
    " \n",
    "Tu nanga hi to aaya hai\n",
    "Kya ghanta lekar jaayega\n",
    "Apna time aayega\n",
    "Apna time aayega\n",
    "Apna time aayega\"\"\""
   ]
  },
  {
   "cell_type": "code",
   "execution_count": 59,
   "metadata": {},
   "outputs": [],
   "source": [
    "text_file = \"Lyrics.txt\"\n",
    "def loadfile(filename):\n",
    "    with open(filename,encoding = 'utf8') as f:\n",
    "        return f.read().lower()"
   ]
  },
  {
   "cell_type": "code",
   "execution_count": 60,
   "metadata": {},
   "outputs": [],
   "source": [
    "data = loadfile(text_file)"
   ]
  },
  {
   "cell_type": "code",
   "execution_count": 61,
   "metadata": {},
   "outputs": [
    {
     "name": "stdout",
     "output_type": "stream",
     "text": [
      "apna time aayega\n",
      "uth ja apni raakh se\n",
      "tu udd ja ab talaash mein\n",
      "parwaaz dekh parwane ki\n",
      "aasman bhi sar uthayega\n",
      "aayega apna time aayega\n",
      "mere jaisa shaana lala\n",
      "tujhe na mil payega\n",
      " \n",
      "yeh shabdon ka jwala\n",
      "meri bediyan pighlayega\n",
      "jitna toone boya hai tu\n",
      "utna hi to khaayega\n",
      "aisa mera khwaab hai\n",
      "jo darr ko bhi satayega\n",
      "zinda mera khwaab\n",
      "ab kaise tu dafnayega\n",
      " \n",
      "ab hausle se jeene de\n",
      "ab khauf nahi hai seene mein\n",
      "har raaste ko cheerenge\n",
      "hum kaamyabi chheenenge\n",
      "sab kuchh mila paseene se\n",
      "matlab bana ab jeene mein\n",
      " \n",
      "kyon\n",
      "kyon ki apna time aayega\n",
      " \n",
      "tu nanga hi to aaya hai\n",
      "kya ghanta lekar jaayega\n",
      "apna time aayega\n",
      "apna time aayega\n",
      "apna time aayega x (2)\n",
      " \n",
      "tu nanga hi to aaya hai\n",
      "kya ghanta lekar..\n",
      " \n",
      "kissi ka hath nahi tha sar par\n",
      "yahaan par aaya khud ki mehnat se main\n",
      "jitni taakat kismat mein nahi\n",
      "utni rehmat mein hai\n",
      "phir bhi ladka sehmat nahin hai\n",
      "kyon ki hairat nahi hai\n",
      "zaroorat yahaan marzi ki\n",
      "aur jurrat ki hai\n",
      " \n",
      "taakat ki hai, aafat ki\n",
      "himaakat ki, ibaadat ki\n",
      "adalat yeh hai chahat ki\n",
      "mohobbat ki, amaanat ki\n",
      "jeetne ki ab aadat ki hai\n",
      "shohrat ki ab laalach nai hai\n",
      "tere bhai jaisa koyi hard’ch nai hai\n",
      " \n",
      "iss harkat ne hi barkat di hai\n",
      "kyon?\n",
      " \n",
      "tu nanga hi to aaya hai\n",
      "kya ghanta lekar jaayega\n",
      "apna time aayega\n",
      "apna time aayega\n",
      "apna time aayega\n",
      " \n",
      "tu nanga hi to aaya hai\n",
      "kya ghanta lekar jaayega\n",
      "kya tu ghanta lekar jaayega\n",
      "apna time aayega\n",
      "apna time aayega\n"
     ]
    }
   ],
   "source": [
    "print(data)"
   ]
  },
  {
   "cell_type": "code",
   "execution_count": 62,
   "metadata": {},
   "outputs": [],
   "source": [
    "def generateTable(data,k = 4):\n",
    "    \n",
    "    T = {}\n",
    "    for i in range(len(data)-k):\n",
    "        x = data[i:i+k]\n",
    "        y = data[i+k]\n",
    "        if T.get(x) is None:\n",
    "            T[x] ={}\n",
    "            T[x][y] = 1\n",
    "        else:\n",
    "            if T[x].get(y) is None:\n",
    "                T[x][y] = 1\n",
    "            else:\n",
    "                T[x][y] += 1\n",
    "    \n",
    "    return T"
   ]
  },
  {
   "cell_type": "code",
   "execution_count": 63,
   "metadata": {},
   "outputs": [
    {
     "name": "stdout",
     "output_type": "stream",
     "text": [
      "{'apna': {' ': 11}, 'pna ': {'t': 11}, 'na t': {'i': 11, 'o': 1}, 'a ti': {'m': 11}, ' tim': {'e': 11}, 'time': {' ': 11}, 'ime ': {'a': 11}, 'me a': {'a': 11}, 'e aa': {'y': 11}, ' aay': {'e': 11, 'a': 5}, 'aaye': {'g': 17}, 'ayeg': {'a': 22}, 'yega': {'\\n': 19, ' ': 2}, 'ega\\n': {'u': 1, 'a': 10, 'm': 1, ' ': 4, 'j': 1, 'z': 1, 'k': 1}, 'ga\\nu': {'t': 1}, 'a\\nut': {'h': 1}, '\\nuth': {' ': 1}, 'uth ': {'j': 1}, 'th j': {'a': 1}, 'h ja': {' ': 1}, ' ja ': {'a': 2}, 'ja a': {'p': 1, 'b': 1}, 'a ap': {'n': 2}, ' apn': {'i': 1, 'a': 2}, 'apni': {' ': 1}, 'pni ': {'r': 1}, 'ni r': {'a': 1, 'e': 1}, 'i ra': {'a': 1}, ' raa': {'k': 1, 's': 1}, 'raak': {'h': 1}, 'aakh': {' ': 1}, 'akh ': {'s': 1}, 'kh s': {'e': 1}, 'h se': {'\\n': 1}, ' se\\n': {'t': 1, 'm': 1}, 'se\\nt': {'u': 1}, 'e\\ntu': {' ': 1}, '\\ntu ': {'u': 1, 'n': 4}, 'tu u': {'d': 1}, 'u ud': {'d': 1}, ' udd': {' ': 1}, 'udd ': {'j': 1}, 'dd j': {'a': 1}, 'd ja': {' ': 1}, 'a ab': {' ': 2}, ' ab ': {'t': 1, 'j': 1, 'a': 1, 'l': 1}, 'ab t': {'a': 1}, 'b ta': {'l': 1}, ' tal': {'a': 1}, 'tala': {'a': 1}, 'alaa': {'s': 1}, 'laas': {'h': 1}, 'aash': {' ': 1}, 'ash ': {'m': 1}, 'sh m': {'e': 1}, 'h me': {'i': 1}, ' mei': {'n': 5}, 'mein': {'\\n': 3, ' ': 2}, 'ein\\n': {'p': 1, 'h': 1, ' ': 1}, 'in\\np': {'a': 1}, 'n\\npa': {'r': 1}, '\\npar': {'w': 1}, 'parw': {'a': 2}, 'arwa': {'a': 1, 'n': 1}, 'rwaa': {'z': 1}, 'waaz': {' ': 1}, 'aaz ': {'d': 1}, 'az d': {'e': 1}, 'z de': {'k': 1}, ' dek': {'h': 1}, 'dekh': {' ': 1}, 'ekh ': {'p': 1}, 'kh p': {'a': 1}, 'h pa': {'r': 1}, ' par': {'w': 1, '\\n': 1, ' ': 1}, 'rwan': {'e': 1}, 'wane': {' ': 1}, 'ane ': {'k': 1}, 'ne k': {'i': 2}, 'e ki': {'\\n': 1, ' ': 1}, ' ki\\n': {'a': 3, 'h': 1, 'm': 1, 'j': 1}, 'ki\\na': {'a': 1, 'u': 1, 'd': 1}, 'i\\naa': {'s': 1}, '\\naas': {'m': 1}, 'aasm': {'a': 1}, 'asma': {'n': 1}, 'sman': {' ': 1}, 'man ': {'b': 1}, 'an b': {'h': 1}, 'n bh': {'i': 1}, ' bhi': {' ': 3}, 'bhi ': {'s': 2, 'l': 1}, 'hi s': {'a': 2}, 'i sa': {'r': 1, 't': 1}, ' sar': {' ': 2}, 'sar ': {'u': 1, 'p': 1}, 'ar u': {'t': 1}, 'r ut': {'h': 1}, ' uth': {'a': 1}, 'utha': {'y': 1}, 'thay': {'e': 1}, 'haye': {'g': 1}, 'ga\\na': {'a': 1, 'i': 1, 'p': 8}, 'a\\naa': {'y': 1}, '\\naay': {'e': 1}, 'ega ': {'a': 1, 'x': 1}, 'ga a': {'p': 1}, 'ga\\nm': {'e': 1}, 'a\\nme': {'r': 2}, '\\nmer': {'e': 1, 'i': 1}, 'mere': {' ': 1}, 'ere ': {'j': 1, 'b': 1}, 're j': {'a': 1}, 'e ja': {'i': 1}, ' jai': {'s': 2}, 'jais': {'a': 2}, 'aisa': {' ': 3}, 'isa ': {'s': 1, 'm': 1, 'k': 1}, 'sa s': {'h': 1}, 'a sh': {'a': 1}, ' sha': {'a': 1, 'b': 1}, 'shaa': {'n': 1}, 'haan': {'a': 1, ' ': 2}, 'aana': {' ': 1, 't': 1}, 'ana ': {'l': 1, 'a': 1}, 'na l': {'a': 1}, 'a la': {'l': 1}, ' lal': {'a': 1}, 'lala': {'\\n': 1}, 'ala\\n': {'t': 1, 'm': 1}, 'la\\nt': {'u': 1}, 'a\\ntu': {'j': 1}, '\\ntuj': {'h': 1}, 'tujh': {'e': 1}, 'ujhe': {' ': 1}, 'jhe ': {'n': 1}, 'he n': {'a': 1}, 'e na': {' ': 1}, ' na ': {'m': 1}, 'na m': {'i': 1}, 'a mi': {'l': 1}, ' mil': {' ': 1, 'a': 1}, 'mil ': {'p': 1}, 'il p': {'a': 1}, 'l pa': {'y': 1}, ' pay': {'e': 1}, 'paye': {'g': 1}, 'ga\\n ': {'\\n': 4}, 'a\\n \\n': {'y': 1, 'a': 1, 't': 2}, '\\n \\ny': {'e': 1}, ' \\nye': {'h': 1}, '\\nyeh': {' ': 1}, 'yeh ': {'s': 1, 'h': 1}, 'eh s': {'h': 1}, 'h sh': {'a': 1}, 'shab': {'d': 1}, 'habd': {'o': 1}, 'abdo': {'n': 1}, 'bdon': {' ': 1}, 'don ': {'k': 1}, 'on k': {'a': 1, 'i': 2}, 'n ka': {' ': 1}, ' ka ': {'j': 1, 'h': 1}, 'ka j': {'w': 1}, 'a jw': {'a': 1}, ' jwa': {'l': 1}, 'jwal': {'a': 1}, 'wala': {'\\n': 1}, 'la\\nm': {'e': 1}, 'meri': {' ': 1}, 'eri ': {'b': 1}, 'ri b': {'e': 1}, 'i be': {'d': 1}, ' bed': {'i': 1}, 'bedi': {'y': 1}, 'ediy': {'a': 1}, 'diya': {'n': 1}, 'iyan': {' ': 1}, 'yan ': {'p': 1}, 'an p': {'i': 1, 'a': 1}, 'n pi': {'g': 1}, ' pig': {'h': 1}, 'pigh': {'l': 1}, 'ighl': {'a': 1}, 'ghla': {'y': 1}, 'hlay': {'e': 1}, 'laye': {'g': 1}, 'ga\\nj': {'i': 1}, 'a\\nji': {'t': 1}, '\\njit': {'n': 2}, 'jitn': {'a': 1, 'i': 1}, 'itna': {' ': 1}, 'tna ': {'t': 1, 'h': 1}, 'a to': {'o': 1}, ' too': {'n': 1}, 'toon': {'e': 1}, 'oone': {' ': 1}, 'one ': {'b': 1}, 'ne b': {'o': 1}, 'e bo': {'y': 1}, ' boy': {'a': 1}, 'boya': {' ': 1}, 'oya ': {'h': 1}, 'ya h': {'a': 5}, 'a ha': {'i': 5, 't': 1}, ' hai': {' ': 3, '\\n': 13, 'r': 1, ',': 1}, 'hai ': {'t': 1, 's': 1, 'c': 1, 'j': 1}, 'ai t': {'u': 1}, 'i tu': {'\\n': 1}, ' tu\\n': {'u': 1}, 'tu\\nu': {'t': 1}, 'u\\nut': {'n': 1}, '\\nutn': {'a': 1, 'i': 1}, 'utna': {' ': 1}, 'na h': {'i': 1}, 'a hi': {' ': 5}, ' hi ': {'t': 5, 'b': 1}, 'hi t': {'o': 5, 'h': 1}, 'i to': {' ': 5}, ' to ': {'k': 1, 'a': 4}, 'to k': {'h': 1}, 'o kh': {'a': 1}, ' kha': {'a': 1, 'u': 1}, 'khaa': {'y': 1}, 'haay': {'e': 1}, 'a\\nai': {'s': 1}, '\\nais': {'a': 1}, 'sa m': {'e': 1}, 'a me': {'r': 2}, ' mer': {'a': 2}, 'mera': {' ': 2}, 'era ': {'k': 2}, 'ra k': {'h': 2}, 'a kh': {'w': 2, 'u': 1}, ' khw': {'a': 2}, 'khwa': {'a': 2}, 'hwaa': {'b': 2}, 'waab': {' ': 1, '\\n': 1}, 'aab ': {'h': 1}, 'ab h': {'a': 2}, 'b ha': {'i': 1, 'u': 1}, 'hai\\n': {'j': 1, 'k': 6, 'p': 1, 'z': 1, ' ': 2, 's': 1, 't': 1}, 'ai\\nj': {'o': 1}, 'i\\njo': {' ': 1}, '\\njo ': {'d': 1}, 'jo d': {'a': 1}, 'o da': {'r': 1}, ' dar': {'r': 1}, 'darr': {' ': 1}, 'arr ': {'k': 1}, 'rr k': {'o': 1}, 'r ko': {' ': 1}, ' ko ': {'b': 1, 'c': 1}, 'ko b': {'h': 1}, 'o bh': {'i': 1}, ' sat': {'a': 1}, 'sata': {'y': 1}, 'atay': {'e': 1}, 'taye': {'g': 1}, 'ga\\nz': {'i': 1}, 'a\\nzi': {'n': 1}, '\\nzin': {'d': 1}, 'zind': {'a': 1}, 'inda': {' ': 1}, 'nda ': {'m': 1}, 'da m': {'e': 1}, 'aab\\n': {'a': 1}, 'ab\\na': {'b': 1}, 'b\\nab': {' ': 1}, '\\nab ': {'k': 2, 'h': 1}, 'ab k': {'a': 1, 'h': 1, 'u': 1}, 'b ka': {'i': 1}, ' kai': {'s': 1}, 'kais': {'e': 1}, 'aise': {' ': 1}, 'ise ': {'t': 1}, 'se t': {'u': 1}, 'e tu': {' ': 1}, ' tu ': {'d': 1, 'g': 1}, 'tu d': {'a': 1}, 'u da': {'f': 1}, ' daf': {'n': 1}, 'dafn': {'a': 1}, 'afna': {'y': 1}, 'fnay': {'e': 1}, 'naye': {'g': 1}, '\\n \\na': {'b': 1}, ' \\nab': {' ': 1}, ' hau': {'s': 1}, 'haus': {'l': 1}, 'ausl': {'e': 1}, 'usle': {' ': 1}, 'sle ': {'s': 1}, 'le s': {'e': 1}, 'e se': {' ': 1, '\\n': 1}, ' se ': {'j': 1, 'm': 1}, 'se j': {'e': 1}, 'e je': {'e': 1}, ' jee': {'n': 2}, 'jeen': {'e': 2}, 'eene': {' ': 4, 'n': 1}, 'ene ': {'d': 1, 'm': 2, 's': 1}, 'ne d': {'e': 1}, 'e de': {'\\n': 1}, ' de\\n': {'a': 1}, 'de\\na': {'b': 1}, 'e\\nab': {' ': 1}, 'b kh': {'a': 1}, 'khau': {'f': 1}, 'hauf': {' ': 1}, 'auf ': {'n': 1}, 'uf n': {'a': 1}, 'f na': {'h': 1}, ' nah': {'i': 5}, 'nahi': {' ': 3, '\\n': 1, 'n': 1}, 'ahi ': {'h': 2, 't': 1}, 'hi h': {'a': 2}, 'i ha': {'i': 9, 'r': 1}, 'ai s': {'e': 1}, 'i se': {'e': 1}, ' see': {'n': 1}, 'seen': {'e': 2}, 'ne m': {'e': 2}, 'e me': {'i': 2}, 'in\\nh': {'a': 1}, 'n\\nha': {'r': 1}, '\\nhar': {' ': 1}, 'har ': {'r': 1}, 'ar r': {'a': 1}, 'r ra': {'a': 1}, 'raas': {'t': 1}, 'aast': {'e': 1}, 'aste': {' ': 1}, 'ste ': {'k': 1}, 'te k': {'o': 1}, 'e ko': {' ': 1}, 'ko c': {'h': 1}, 'o ch': {'e': 1}, ' che': {'e': 1}, 'chee': {'r': 1}, 'heer': {'e': 1}, 'eere': {'n': 1}, 'eren': {'g': 1}, 'reng': {'e': 1}, 'enge': {'\\n': 2}, 'nge\\n': {'h': 1, 's': 1}, 'ge\\nh': {'u': 1}, 'e\\nhu': {'m': 1}, '\\nhum': {' ': 1}, 'hum ': {'k': 1}, 'um k': {'a': 1}, 'm ka': {'a': 1}, ' kaa': {'m': 1}, 'kaam': {'y': 1}, 'aamy': {'a': 1}, 'amya': {'b': 1}, 'myab': {'i': 1}, 'yabi': {' ': 1}, 'abi ': {'c': 1}, 'bi c': {'h': 1}, 'i ch': {'h': 1, 'a': 1}, ' chh': {'e': 1}, 'chhe': {'e': 1}, 'hhee': {'n': 1}, 'heen': {'e': 1}, 'enen': {'g': 1}, 'neng': {'e': 1}, 'ge\\ns': {'a': 1}, 'e\\nsa': {'b': 1}, '\\nsab': {' ': 1}, 'sab ': {'k': 1}, 'b ku': {'c': 1}, ' kuc': {'h': 1}, 'kuch': {'h': 1}, 'uchh': {' ': 1}, 'chh ': {'m': 1}, 'hh m': {'i': 1}, 'h mi': {'l': 1}, 'mila': {' ': 1}, 'ila ': {'p': 1}, 'la p': {'a': 1}, 'a pa': {'s': 1}, ' pas': {'e': 1}, 'pase': {'e': 1}, 'asee': {'n': 1}, 'ne s': {'e': 1}, 'se\\nm': {'a': 1}, 'e\\nma': {'t': 1}, '\\nmat': {'l': 1}, 'matl': {'a': 1}, 'atla': {'b': 1}, 'tlab': {' ': 1}, 'lab ': {'b': 1}, 'ab b': {'a': 1}, 'b ba': {'n': 1}, ' ban': {'a': 1}, 'bana': {' ': 1}, 'na a': {'b': 1}, 'ab j': {'e': 1}, 'b je': {'e': 1}, 'in\\n ': {'\\n': 1}, 'n\\n \\n': {'k': 1}, '\\n \\nk': {'y': 1, 'i': 1}, ' \\nky': {'o': 1}, '\\nkyo': {'n': 4}, 'kyon': {'\\n': 1, ' ': 2, '?': 1}, 'yon\\n': {'k': 1}, 'on\\nk': {'y': 1}, 'n\\nky': {'o': 1}, 'yon ': {'k': 2}, 'n ki': {' ': 2}, ' ki ': {'a': 3, 'm': 1, 'h': 4}, 'ki a': {'p': 1, 'b': 2}, 'i ap': {'n': 1}, '\\n \\nt': {'u': 4, 'a': 1}, ' \\ntu': {' ': 4}, 'tu n': {'a': 4}, 'u na': {'n': 4}, ' nan': {'g': 4}, 'nang': {'a': 4}, 'anga': {' ': 4}, 'nga ': {'h': 4}, 'ga h': {'i': 4}, 'to a': {'a': 4}, 'o aa': {'y': 4}, 'aaya': {' ': 5}, 'aya ': {'h': 4, 'k': 1}, 'ai\\nk': {'y': 6}, 'i\\nky': {'a': 4, 'o': 2}, '\\nkya': {' ': 5}, 'kya ': {'g': 4, 't': 1}, 'ya g': {'h': 4}, 'a gh': {'a': 4}, ' gha': {'n': 5}, 'ghan': {'t': 5}, 'hant': {'a': 5}, 'anta': {' ': 5}, 'nta ': {'l': 5}, 'ta l': {'e': 5}, 'a le': {'k': 5}, ' lek': {'a': 5}, 'leka': {'r': 5}, 'ekar': {' ': 4, '.': 1}, 'kar ': {'j': 4}, 'ar j': {'a': 4}, 'r ja': {'a': 4}, ' jaa': {'y': 4}, 'jaay': {'e': 4}, 'a\\nap': {'n': 8}, '\\napn': {'a': 8}, 'ga x': {' ': 1}, 'a x ': {'(': 1}, ' x (': {'2': 1}, 'x (2': {')': 1}, ' (2)': {'\\n': 1}, '(2)\\n': {' ': 1}, '2)\\n ': {'\\n': 1}, ')\\n \\n': {'t': 1}, 'kar.': {'.': 1}, 'ar..': {'\\n': 1}, 'r..\\n': {' ': 1}, '..\\n ': {'\\n': 1}, '.\\n \\n': {'k': 1}, ' \\nki': {'s': 1}, '\\nkis': {'s': 1}, 'kiss': {'i': 1}, 'issi': {' ': 1}, 'ssi ': {'k': 1}, 'si k': {'a': 1}, 'i ka': {' ': 1}, 'ka h': {'a': 1}, ' hat': {'h': 1}, 'hath': {' ': 1}, 'ath ': {'n': 1}, 'th n': {'a': 1}, 'h na': {'h': 1, 'i': 2}, 'i th': {'a': 1}, ' tha': {' ': 1}, 'tha ': {'s': 1}, 'ha s': {'a': 1}, 'a sa': {'r': 1}, 'ar p': {'a': 1}, 'r pa': {'r': 1}, 'par\\n': {'y': 1}, 'ar\\ny': {'a': 1}, 'r\\nya': {'h': 1}, '\\nyah': {'a': 1}, 'yaha': {'a': 2}, 'ahaa': {'n': 2}, 'aan ': {'p': 1, 'm': 1}, 'n pa': {'r': 1}, 'par ': {'a': 1}, 'ar a': {'a': 1}, 'r aa': {'y': 1}, 'ya k': {'h': 1}, ' khu': {'d': 1}, 'khud': {' ': 1}, 'hud ': {'k': 1}, 'ud k': {'i': 1}, 'd ki': {' ': 1}, 'ki m': {'e': 1}, 'i me': {'h': 1}, ' meh': {'n': 1}, 'mehn': {'a': 1}, 'ehna': {'t': 1}, 'hnat': {' ': 1}, 'nat ': {'s': 1, 'k': 1}, 'at s': {'e': 1}, 't se': {' ': 1}, 'se m': {'a': 1}, 'e ma': {'i': 1}, ' mai': {'n': 1}, 'main': {'\\n': 1}, 'ain\\n': {'j': 1}, 'in\\nj': {'i': 1}, 'n\\nji': {'t': 1}, 'itni': {' ': 1}, 'tni ': {'t': 1, 'r': 1}, 'ni t': {'a': 1}, 'i ta': {'a': 1}, ' taa': {'k': 1}, 'taak': {'a': 2}, 'aaka': {'t': 3}, 'akat': {' ': 3}, 'kat ': {'k': 3, 'n': 1, 'd': 1}, 'at k': {'i': 11}, 't ki': {'s': 1, ' ': 4, '\\n': 4, ',': 2}, ' kis': {'m': 1}, 'kism': {'a': 1}, 'isma': {'t': 1}, 'smat': {' ': 1}, 'mat ': {'m': 2, 'n': 1}, 'at m': {'e': 2}, 't me': {'i': 2}, 'ein ': {'n': 1, 'h': 1}, 'in n': {'a': 1}, 'n na': {'h': 1}, 'ahi\\n': {'u': 1}, 'hi\\nu': {'t': 1}, 'i\\nut': {'n': 1}, 'utni': {' ': 1}, 'i re': {'h': 1}, ' reh': {'m': 1}, 'rehm': {'a': 1}, 'ehma': {'t': 2}, 'hmat': {' ': 2}, 'in h': {'a': 2}, 'n ha': {'i': 2}, 'ai\\np': {'h': 1}, 'i\\nph': {'i': 1}, '\\nphi': {'r': 1}, 'phir': {' ': 1}, 'hir ': {'b': 1}, 'ir b': {'h': 1}, 'r bh': {'i': 1}, 'hi l': {'a': 1}, 'i la': {'d': 1}, ' lad': {'k': 1}, 'ladk': {'a': 1}, 'adka': {' ': 1}, 'dka ': {'s': 1}, 'ka s': {'e': 1}, 'a se': {'h': 1}, ' seh': {'m': 1}, 'sehm': {'a': 1}, 'at n': {'a': 2, 'e': 1}, 't na': {'h': 2}, 'ahin': {' ': 1}, 'hin ': {'h': 1}, 'ki h': {'a': 4}, 'hair': {'a': 1}, 'aira': {'t': 1}, 'irat': {' ': 1}, 'rat ': {'n': 1, 'y': 1, 'k': 2}, 'ai\\nz': {'a': 1}, 'i\\nza': {'r': 1}, '\\nzar': {'o': 1}, 'zaro': {'o': 1}, 'aroo': {'r': 1}, 'roor': {'a': 1}, 'oora': {'t': 1}, 'orat': {' ': 1}, 'at y': {'a': 1, 'e': 1}, 't ya': {'h': 1}, ' yah': {'a': 1}, 'an m': {'a': 1}, 'n ma': {'r': 1}, ' mar': {'z': 1}, 'marz': {'i': 1}, 'arzi': {' ': 1}, 'rzi ': {'k': 1}, 'zi k': {'i': 1}, 'i ki': {'\\n': 1}, 'i\\nau': {'r': 1}, '\\naur': {' ': 1}, 'aur ': {'j': 1}, 'ur j': {'u': 1}, 'r ju': {'r': 1}, ' jur': {'r': 1}, 'jurr': {'a': 1}, 'urra': {'t': 1}, 'rrat': {' ': 1}, 'ai\\n ': {'\\n': 2}, 'i\\n \\n': {'t': 1, 'i': 1}, ' \\nta': {'a': 1}, '\\ntaa': {'k': 1}, 'hai,': {' ': 1}, 'ai, ': {'a': 1}, 'i, a': {'a': 1, 'm': 1}, ', aa': {'f': 1}, ' aaf': {'a': 1}, 'aafa': {'t': 1}, 'afat': {' ': 1}, 'fat ': {'k': 1}, 'ki\\nh': {'i': 1}, 'i\\nhi': {'m': 1}, '\\nhim': {'a': 1}, 'hima': {'a': 1}, 'imaa': {'k': 1}, 'maak': {'a': 1}, ' ki,': {' ': 2}, 'ki, ': {'i': 1, 'a': 1}, 'i, i': {'b': 1}, ', ib': {'a': 1}, ' iba': {'a': 1}, 'ibaa': {'d': 1}, 'baad': {'a': 1}, 'aada': {'t': 2}, 'adat': {' ': 2}, 'dat ': {'k': 2}, 'i\\nad': {'a': 1}, '\\nada': {'l': 1}, 'adal': {'a': 1}, 'dala': {'t': 1}, 'alat': {' ': 1}, 'lat ': {'y': 1}, 't ye': {'h': 1}, ' yeh': {' ': 1}, 'eh h': {'a': 1}, 'h ha': {'i': 1}, 'ai c': {'h': 1}, ' cha': {'h': 1}, 'chah': {'a': 1}, 'haha': {'t': 1}, 'ahat': {' ': 1}, 'hat ': {'k': 1}, 'ki\\nm': {'o': 1}, 'i\\nmo': {'h': 1}, '\\nmoh': {'o': 1}, 'moho': {'b': 1}, 'ohob': {'b': 1}, 'hobb': {'a': 1}, 'obba': {'t': 1}, 'bbat': {' ': 1}, 'bat ': {'k': 1}, ', am': {'a': 1}, ' ama': {'a': 1}, 'amaa': {'n': 1}, 'maan': {'a': 1}, 'anat': {' ': 1}, 'ki\\nj': {'e': 1}, 'i\\nje': {'e': 1}, '\\njee': {'t': 1}, 'jeet': {'n': 1}, 'eetn': {'e': 1}, 'etne': {' ': 1}, 'tne ': {'k': 1}, 'i ab': {' ': 2}, 'ab a': {'a': 1}, 'b aa': {'d': 1}, ' aad': {'a': 1}, 'ai\\ns': {'h': 1}, 'i\\nsh': {'o': 1}, '\\nsho': {'h': 1}, 'shoh': {'r': 1}, 'hohr': {'a': 1}, 'ohra': {'t': 1}, 'hrat': {' ': 1}, 'ab l': {'a': 1}, 'b la': {'a': 1}, ' laa': {'l': 1}, 'laal': {'a': 1}, 'aala': {'c': 1}, 'alac': {'h': 1}, 'lach': {' ': 1}, 'ach ': {'n': 1}, 'ch n': {'a': 2}, ' nai': {' ': 2}, 'nai ': {'h': 2}, 'ai h': {'a': 2}, 'ai\\nt': {'e': 1}, 'i\\nte': {'r': 1}, '\\nter': {'e': 1}, 'tere': {' ': 1}, 're b': {'h': 1}, 'e bh': {'a': 1}, ' bha': {'i': 1}, 'bhai': {' ': 1}, 'ai j': {'a': 1}, 'i ja': {'i': 1}, 'sa k': {'o': 1}, 'a ko': {'y': 1}, ' koy': {'i': 1}, 'koyi': {' ': 1}, 'oyi ': {'h': 1}, 'yi h': {'a': 1}, ' har': {'d': 1, 'k': 1}, 'hard': {'’': 1}, 'ard’': {'c': 1}, 'rd’c': {'h': 1}, 'd’ch': {' ': 1}, '’ch ': {'n': 1}, '\\n \\ni': {'s': 1}, ' \\nis': {'s': 1}, '\\niss': {' ': 1}, 'iss ': {'h': 1}, 'ss h': {'a': 1}, 's ha': {'r': 1}, 'hark': {'a': 1}, 'arka': {'t': 2}, 'rkat': {' ': 2}, 't ne': {' ': 1}, ' ne ': {'h': 1}, 'ne h': {'i': 1}, 'e hi': {' ': 1}, 'hi b': {'a': 1}, 'i ba': {'r': 1}, ' bar': {'k': 1}, 'bark': {'a': 1}, 'at d': {'i': 1}, 't di': {' ': 1}, ' di ': {'h': 1}, 'di h': {'a': 1}, 'yon?': {'\\n': 1}, 'on?\\n': {' ': 1}, 'n?\\n ': {'\\n': 1}, '?\\n \\n': {'t': 1}, 'ga\\nk': {'y': 1}, 'a\\nky': {'a': 1}, 'ya t': {'u': 1}, 'a tu': {' ': 1}, 'tu g': {'h': 1}, 'u gh': {'a': 1}}\n"
     ]
    }
   ],
   "source": [
    "diction = generateTable(data)\n",
    "print(diction)"
   ]
  },
  {
   "cell_type": "code",
   "execution_count": 64,
   "metadata": {},
   "outputs": [],
   "source": [
    "def convertFreqIntoProb(T):\n",
    "    for kx in T.keys():\n",
    "        s = float(sum(T[kx].values()))\n",
    "        for k in T[kx].keys():\n",
    "            T[kx][k] = T[kx][k]/s\n",
    "            \n",
    "    return T"
   ]
  },
  {
   "cell_type": "code",
   "execution_count": 65,
   "metadata": {},
   "outputs": [],
   "source": [
    "model = convertFreqIntoProb(diction)"
   ]
  },
  {
   "cell_type": "code",
   "execution_count": 66,
   "metadata": {},
   "outputs": [
    {
     "name": "stdout",
     "output_type": "stream",
     "text": [
      "{'apna': {' ': 1.0}, 'pna ': {'t': 1.0}, 'na t': {'i': 0.9166666666666666, 'o': 0.08333333333333333}, 'a ti': {'m': 1.0}, ' tim': {'e': 1.0}, 'time': {' ': 1.0}, 'ime ': {'a': 1.0}, 'me a': {'a': 1.0}, 'e aa': {'y': 1.0}, ' aay': {'e': 0.6875, 'a': 0.3125}, 'aaye': {'g': 1.0}, 'ayeg': {'a': 1.0}, 'yega': {'\\n': 0.9047619047619048, ' ': 0.09523809523809523}, 'ega\\n': {'u': 0.05263157894736842, 'a': 0.5263157894736842, 'm': 0.05263157894736842, ' ': 0.21052631578947367, 'j': 0.05263157894736842, 'z': 0.05263157894736842, 'k': 0.05263157894736842}, 'ga\\nu': {'t': 1.0}, 'a\\nut': {'h': 1.0}, '\\nuth': {' ': 1.0}, 'uth ': {'j': 1.0}, 'th j': {'a': 1.0}, 'h ja': {' ': 1.0}, ' ja ': {'a': 1.0}, 'ja a': {'p': 0.5, 'b': 0.5}, 'a ap': {'n': 1.0}, ' apn': {'i': 0.3333333333333333, 'a': 0.6666666666666666}, 'apni': {' ': 1.0}, 'pni ': {'r': 1.0}, 'ni r': {'a': 0.5, 'e': 0.5}, 'i ra': {'a': 1.0}, ' raa': {'k': 0.5, 's': 0.5}, 'raak': {'h': 1.0}, 'aakh': {' ': 1.0}, 'akh ': {'s': 1.0}, 'kh s': {'e': 1.0}, 'h se': {'\\n': 1.0}, ' se\\n': {'t': 0.5, 'm': 0.5}, 'se\\nt': {'u': 1.0}, 'e\\ntu': {' ': 1.0}, '\\ntu ': {'u': 0.2, 'n': 0.8}, 'tu u': {'d': 1.0}, 'u ud': {'d': 1.0}, ' udd': {' ': 1.0}, 'udd ': {'j': 1.0}, 'dd j': {'a': 1.0}, 'd ja': {' ': 1.0}, 'a ab': {' ': 1.0}, ' ab ': {'t': 0.25, 'j': 0.25, 'a': 0.25, 'l': 0.25}, 'ab t': {'a': 1.0}, 'b ta': {'l': 1.0}, ' tal': {'a': 1.0}, 'tala': {'a': 1.0}, 'alaa': {'s': 1.0}, 'laas': {'h': 1.0}, 'aash': {' ': 1.0}, 'ash ': {'m': 1.0}, 'sh m': {'e': 1.0}, 'h me': {'i': 1.0}, ' mei': {'n': 1.0}, 'mein': {'\\n': 0.6, ' ': 0.4}, 'ein\\n': {'p': 0.3333333333333333, 'h': 0.3333333333333333, ' ': 0.3333333333333333}, 'in\\np': {'a': 1.0}, 'n\\npa': {'r': 1.0}, '\\npar': {'w': 1.0}, 'parw': {'a': 1.0}, 'arwa': {'a': 0.5, 'n': 0.5}, 'rwaa': {'z': 1.0}, 'waaz': {' ': 1.0}, 'aaz ': {'d': 1.0}, 'az d': {'e': 1.0}, 'z de': {'k': 1.0}, ' dek': {'h': 1.0}, 'dekh': {' ': 1.0}, 'ekh ': {'p': 1.0}, 'kh p': {'a': 1.0}, 'h pa': {'r': 1.0}, ' par': {'w': 0.3333333333333333, '\\n': 0.3333333333333333, ' ': 0.3333333333333333}, 'rwan': {'e': 1.0}, 'wane': {' ': 1.0}, 'ane ': {'k': 1.0}, 'ne k': {'i': 1.0}, 'e ki': {'\\n': 0.5, ' ': 0.5}, ' ki\\n': {'a': 0.5, 'h': 0.16666666666666666, 'm': 0.16666666666666666, 'j': 0.16666666666666666}, 'ki\\na': {'a': 0.3333333333333333, 'u': 0.3333333333333333, 'd': 0.3333333333333333}, 'i\\naa': {'s': 1.0}, '\\naas': {'m': 1.0}, 'aasm': {'a': 1.0}, 'asma': {'n': 1.0}, 'sman': {' ': 1.0}, 'man ': {'b': 1.0}, 'an b': {'h': 1.0}, 'n bh': {'i': 1.0}, ' bhi': {' ': 1.0}, 'bhi ': {'s': 0.6666666666666666, 'l': 0.3333333333333333}, 'hi s': {'a': 1.0}, 'i sa': {'r': 0.5, 't': 0.5}, ' sar': {' ': 1.0}, 'sar ': {'u': 0.5, 'p': 0.5}, 'ar u': {'t': 1.0}, 'r ut': {'h': 1.0}, ' uth': {'a': 1.0}, 'utha': {'y': 1.0}, 'thay': {'e': 1.0}, 'haye': {'g': 1.0}, 'ga\\na': {'a': 0.1, 'i': 0.1, 'p': 0.8}, 'a\\naa': {'y': 1.0}, '\\naay': {'e': 1.0}, 'ega ': {'a': 0.5, 'x': 0.5}, 'ga a': {'p': 1.0}, 'ga\\nm': {'e': 1.0}, 'a\\nme': {'r': 1.0}, '\\nmer': {'e': 0.5, 'i': 0.5}, 'mere': {' ': 1.0}, 'ere ': {'j': 0.5, 'b': 0.5}, 're j': {'a': 1.0}, 'e ja': {'i': 1.0}, ' jai': {'s': 1.0}, 'jais': {'a': 1.0}, 'aisa': {' ': 1.0}, 'isa ': {'s': 0.3333333333333333, 'm': 0.3333333333333333, 'k': 0.3333333333333333}, 'sa s': {'h': 1.0}, 'a sh': {'a': 1.0}, ' sha': {'a': 0.5, 'b': 0.5}, 'shaa': {'n': 1.0}, 'haan': {'a': 0.3333333333333333, ' ': 0.6666666666666666}, 'aana': {' ': 0.5, 't': 0.5}, 'ana ': {'l': 0.5, 'a': 0.5}, 'na l': {'a': 1.0}, 'a la': {'l': 1.0}, ' lal': {'a': 1.0}, 'lala': {'\\n': 1.0}, 'ala\\n': {'t': 0.5, 'm': 0.5}, 'la\\nt': {'u': 1.0}, 'a\\ntu': {'j': 1.0}, '\\ntuj': {'h': 1.0}, 'tujh': {'e': 1.0}, 'ujhe': {' ': 1.0}, 'jhe ': {'n': 1.0}, 'he n': {'a': 1.0}, 'e na': {' ': 1.0}, ' na ': {'m': 1.0}, 'na m': {'i': 1.0}, 'a mi': {'l': 1.0}, ' mil': {' ': 0.5, 'a': 0.5}, 'mil ': {'p': 1.0}, 'il p': {'a': 1.0}, 'l pa': {'y': 1.0}, ' pay': {'e': 1.0}, 'paye': {'g': 1.0}, 'ga\\n ': {'\\n': 1.0}, 'a\\n \\n': {'y': 0.25, 'a': 0.25, 't': 0.5}, '\\n \\ny': {'e': 1.0}, ' \\nye': {'h': 1.0}, '\\nyeh': {' ': 1.0}, 'yeh ': {'s': 0.5, 'h': 0.5}, 'eh s': {'h': 1.0}, 'h sh': {'a': 1.0}, 'shab': {'d': 1.0}, 'habd': {'o': 1.0}, 'abdo': {'n': 1.0}, 'bdon': {' ': 1.0}, 'don ': {'k': 1.0}, 'on k': {'a': 0.3333333333333333, 'i': 0.6666666666666666}, 'n ka': {' ': 1.0}, ' ka ': {'j': 0.5, 'h': 0.5}, 'ka j': {'w': 1.0}, 'a jw': {'a': 1.0}, ' jwa': {'l': 1.0}, 'jwal': {'a': 1.0}, 'wala': {'\\n': 1.0}, 'la\\nm': {'e': 1.0}, 'meri': {' ': 1.0}, 'eri ': {'b': 1.0}, 'ri b': {'e': 1.0}, 'i be': {'d': 1.0}, ' bed': {'i': 1.0}, 'bedi': {'y': 1.0}, 'ediy': {'a': 1.0}, 'diya': {'n': 1.0}, 'iyan': {' ': 1.0}, 'yan ': {'p': 1.0}, 'an p': {'i': 0.5, 'a': 0.5}, 'n pi': {'g': 1.0}, ' pig': {'h': 1.0}, 'pigh': {'l': 1.0}, 'ighl': {'a': 1.0}, 'ghla': {'y': 1.0}, 'hlay': {'e': 1.0}, 'laye': {'g': 1.0}, 'ga\\nj': {'i': 1.0}, 'a\\nji': {'t': 1.0}, '\\njit': {'n': 1.0}, 'jitn': {'a': 0.5, 'i': 0.5}, 'itna': {' ': 1.0}, 'tna ': {'t': 0.5, 'h': 0.5}, 'a to': {'o': 1.0}, ' too': {'n': 1.0}, 'toon': {'e': 1.0}, 'oone': {' ': 1.0}, 'one ': {'b': 1.0}, 'ne b': {'o': 1.0}, 'e bo': {'y': 1.0}, ' boy': {'a': 1.0}, 'boya': {' ': 1.0}, 'oya ': {'h': 1.0}, 'ya h': {'a': 1.0}, 'a ha': {'i': 0.8333333333333334, 't': 0.16666666666666666}, ' hai': {' ': 0.16666666666666666, '\\n': 0.7222222222222222, 'r': 0.05555555555555555, ',': 0.05555555555555555}, 'hai ': {'t': 0.25, 's': 0.25, 'c': 0.25, 'j': 0.25}, 'ai t': {'u': 1.0}, 'i tu': {'\\n': 1.0}, ' tu\\n': {'u': 1.0}, 'tu\\nu': {'t': 1.0}, 'u\\nut': {'n': 1.0}, '\\nutn': {'a': 0.5, 'i': 0.5}, 'utna': {' ': 1.0}, 'na h': {'i': 1.0}, 'a hi': {' ': 1.0}, ' hi ': {'t': 0.8333333333333334, 'b': 0.16666666666666666}, 'hi t': {'o': 0.8333333333333334, 'h': 0.16666666666666666}, 'i to': {' ': 1.0}, ' to ': {'k': 0.2, 'a': 0.8}, 'to k': {'h': 1.0}, 'o kh': {'a': 1.0}, ' kha': {'a': 0.5, 'u': 0.5}, 'khaa': {'y': 1.0}, 'haay': {'e': 1.0}, 'a\\nai': {'s': 1.0}, '\\nais': {'a': 1.0}, 'sa m': {'e': 1.0}, 'a me': {'r': 1.0}, ' mer': {'a': 1.0}, 'mera': {' ': 1.0}, 'era ': {'k': 1.0}, 'ra k': {'h': 1.0}, 'a kh': {'w': 0.6666666666666666, 'u': 0.3333333333333333}, ' khw': {'a': 1.0}, 'khwa': {'a': 1.0}, 'hwaa': {'b': 1.0}, 'waab': {' ': 0.5, '\\n': 0.5}, 'aab ': {'h': 1.0}, 'ab h': {'a': 1.0}, 'b ha': {'i': 0.5, 'u': 0.5}, 'hai\\n': {'j': 0.07692307692307693, 'k': 0.46153846153846156, 'p': 0.07692307692307693, 'z': 0.07692307692307693, ' ': 0.15384615384615385, 's': 0.07692307692307693, 't': 0.07692307692307693}, 'ai\\nj': {'o': 1.0}, 'i\\njo': {' ': 1.0}, '\\njo ': {'d': 1.0}, 'jo d': {'a': 1.0}, 'o da': {'r': 1.0}, ' dar': {'r': 1.0}, 'darr': {' ': 1.0}, 'arr ': {'k': 1.0}, 'rr k': {'o': 1.0}, 'r ko': {' ': 1.0}, ' ko ': {'b': 0.5, 'c': 0.5}, 'ko b': {'h': 1.0}, 'o bh': {'i': 1.0}, ' sat': {'a': 1.0}, 'sata': {'y': 1.0}, 'atay': {'e': 1.0}, 'taye': {'g': 1.0}, 'ga\\nz': {'i': 1.0}, 'a\\nzi': {'n': 1.0}, '\\nzin': {'d': 1.0}, 'zind': {'a': 1.0}, 'inda': {' ': 1.0}, 'nda ': {'m': 1.0}, 'da m': {'e': 1.0}, 'aab\\n': {'a': 1.0}, 'ab\\na': {'b': 1.0}, 'b\\nab': {' ': 1.0}, '\\nab ': {'k': 0.6666666666666666, 'h': 0.3333333333333333}, 'ab k': {'a': 0.3333333333333333, 'h': 0.3333333333333333, 'u': 0.3333333333333333}, 'b ka': {'i': 1.0}, ' kai': {'s': 1.0}, 'kais': {'e': 1.0}, 'aise': {' ': 1.0}, 'ise ': {'t': 1.0}, 'se t': {'u': 1.0}, 'e tu': {' ': 1.0}, ' tu ': {'d': 0.5, 'g': 0.5}, 'tu d': {'a': 1.0}, 'u da': {'f': 1.0}, ' daf': {'n': 1.0}, 'dafn': {'a': 1.0}, 'afna': {'y': 1.0}, 'fnay': {'e': 1.0}, 'naye': {'g': 1.0}, '\\n \\na': {'b': 1.0}, ' \\nab': {' ': 1.0}, ' hau': {'s': 1.0}, 'haus': {'l': 1.0}, 'ausl': {'e': 1.0}, 'usle': {' ': 1.0}, 'sle ': {'s': 1.0}, 'le s': {'e': 1.0}, 'e se': {' ': 0.5, '\\n': 0.5}, ' se ': {'j': 0.5, 'm': 0.5}, 'se j': {'e': 1.0}, 'e je': {'e': 1.0}, ' jee': {'n': 1.0}, 'jeen': {'e': 1.0}, 'eene': {' ': 0.8, 'n': 0.2}, 'ene ': {'d': 0.25, 'm': 0.5, 's': 0.25}, 'ne d': {'e': 1.0}, 'e de': {'\\n': 1.0}, ' de\\n': {'a': 1.0}, 'de\\na': {'b': 1.0}, 'e\\nab': {' ': 1.0}, 'b kh': {'a': 1.0}, 'khau': {'f': 1.0}, 'hauf': {' ': 1.0}, 'auf ': {'n': 1.0}, 'uf n': {'a': 1.0}, 'f na': {'h': 1.0}, ' nah': {'i': 1.0}, 'nahi': {' ': 0.6, '\\n': 0.2, 'n': 0.2}, 'ahi ': {'h': 0.6666666666666666, 't': 0.3333333333333333}, 'hi h': {'a': 1.0}, 'i ha': {'i': 0.9, 'r': 0.1}, 'ai s': {'e': 1.0}, 'i se': {'e': 1.0}, ' see': {'n': 1.0}, 'seen': {'e': 1.0}, 'ne m': {'e': 1.0}, 'e me': {'i': 1.0}, 'in\\nh': {'a': 1.0}, 'n\\nha': {'r': 1.0}, '\\nhar': {' ': 1.0}, 'har ': {'r': 1.0}, 'ar r': {'a': 1.0}, 'r ra': {'a': 1.0}, 'raas': {'t': 1.0}, 'aast': {'e': 1.0}, 'aste': {' ': 1.0}, 'ste ': {'k': 1.0}, 'te k': {'o': 1.0}, 'e ko': {' ': 1.0}, 'ko c': {'h': 1.0}, 'o ch': {'e': 1.0}, ' che': {'e': 1.0}, 'chee': {'r': 1.0}, 'heer': {'e': 1.0}, 'eere': {'n': 1.0}, 'eren': {'g': 1.0}, 'reng': {'e': 1.0}, 'enge': {'\\n': 1.0}, 'nge\\n': {'h': 0.5, 's': 0.5}, 'ge\\nh': {'u': 1.0}, 'e\\nhu': {'m': 1.0}, '\\nhum': {' ': 1.0}, 'hum ': {'k': 1.0}, 'um k': {'a': 1.0}, 'm ka': {'a': 1.0}, ' kaa': {'m': 1.0}, 'kaam': {'y': 1.0}, 'aamy': {'a': 1.0}, 'amya': {'b': 1.0}, 'myab': {'i': 1.0}, 'yabi': {' ': 1.0}, 'abi ': {'c': 1.0}, 'bi c': {'h': 1.0}, 'i ch': {'h': 0.5, 'a': 0.5}, ' chh': {'e': 1.0}, 'chhe': {'e': 1.0}, 'hhee': {'n': 1.0}, 'heen': {'e': 1.0}, 'enen': {'g': 1.0}, 'neng': {'e': 1.0}, 'ge\\ns': {'a': 1.0}, 'e\\nsa': {'b': 1.0}, '\\nsab': {' ': 1.0}, 'sab ': {'k': 1.0}, 'b ku': {'c': 1.0}, ' kuc': {'h': 1.0}, 'kuch': {'h': 1.0}, 'uchh': {' ': 1.0}, 'chh ': {'m': 1.0}, 'hh m': {'i': 1.0}, 'h mi': {'l': 1.0}, 'mila': {' ': 1.0}, 'ila ': {'p': 1.0}, 'la p': {'a': 1.0}, 'a pa': {'s': 1.0}, ' pas': {'e': 1.0}, 'pase': {'e': 1.0}, 'asee': {'n': 1.0}, 'ne s': {'e': 1.0}, 'se\\nm': {'a': 1.0}, 'e\\nma': {'t': 1.0}, '\\nmat': {'l': 1.0}, 'matl': {'a': 1.0}, 'atla': {'b': 1.0}, 'tlab': {' ': 1.0}, 'lab ': {'b': 1.0}, 'ab b': {'a': 1.0}, 'b ba': {'n': 1.0}, ' ban': {'a': 1.0}, 'bana': {' ': 1.0}, 'na a': {'b': 1.0}, 'ab j': {'e': 1.0}, 'b je': {'e': 1.0}, 'in\\n ': {'\\n': 1.0}, 'n\\n \\n': {'k': 1.0}, '\\n \\nk': {'y': 0.5, 'i': 0.5}, ' \\nky': {'o': 1.0}, '\\nkyo': {'n': 1.0}, 'kyon': {'\\n': 0.25, ' ': 0.5, '?': 0.25}, 'yon\\n': {'k': 1.0}, 'on\\nk': {'y': 1.0}, 'n\\nky': {'o': 1.0}, 'yon ': {'k': 1.0}, 'n ki': {' ': 1.0}, ' ki ': {'a': 0.375, 'm': 0.125, 'h': 0.5}, 'ki a': {'p': 0.3333333333333333, 'b': 0.6666666666666666}, 'i ap': {'n': 1.0}, '\\n \\nt': {'u': 0.8, 'a': 0.2}, ' \\ntu': {' ': 1.0}, 'tu n': {'a': 1.0}, 'u na': {'n': 1.0}, ' nan': {'g': 1.0}, 'nang': {'a': 1.0}, 'anga': {' ': 1.0}, 'nga ': {'h': 1.0}, 'ga h': {'i': 1.0}, 'to a': {'a': 1.0}, 'o aa': {'y': 1.0}, 'aaya': {' ': 1.0}, 'aya ': {'h': 0.8, 'k': 0.2}, 'ai\\nk': {'y': 1.0}, 'i\\nky': {'a': 0.6666666666666666, 'o': 0.3333333333333333}, '\\nkya': {' ': 1.0}, 'kya ': {'g': 0.8, 't': 0.2}, 'ya g': {'h': 1.0}, 'a gh': {'a': 1.0}, ' gha': {'n': 1.0}, 'ghan': {'t': 1.0}, 'hant': {'a': 1.0}, 'anta': {' ': 1.0}, 'nta ': {'l': 1.0}, 'ta l': {'e': 1.0}, 'a le': {'k': 1.0}, ' lek': {'a': 1.0}, 'leka': {'r': 1.0}, 'ekar': {' ': 0.8, '.': 0.2}, 'kar ': {'j': 1.0}, 'ar j': {'a': 1.0}, 'r ja': {'a': 1.0}, ' jaa': {'y': 1.0}, 'jaay': {'e': 1.0}, 'a\\nap': {'n': 1.0}, '\\napn': {'a': 1.0}, 'ga x': {' ': 1.0}, 'a x ': {'(': 1.0}, ' x (': {'2': 1.0}, 'x (2': {')': 1.0}, ' (2)': {'\\n': 1.0}, '(2)\\n': {' ': 1.0}, '2)\\n ': {'\\n': 1.0}, ')\\n \\n': {'t': 1.0}, 'kar.': {'.': 1.0}, 'ar..': {'\\n': 1.0}, 'r..\\n': {' ': 1.0}, '..\\n ': {'\\n': 1.0}, '.\\n \\n': {'k': 1.0}, ' \\nki': {'s': 1.0}, '\\nkis': {'s': 1.0}, 'kiss': {'i': 1.0}, 'issi': {' ': 1.0}, 'ssi ': {'k': 1.0}, 'si k': {'a': 1.0}, 'i ka': {' ': 1.0}, 'ka h': {'a': 1.0}, ' hat': {'h': 1.0}, 'hath': {' ': 1.0}, 'ath ': {'n': 1.0}, 'th n': {'a': 1.0}, 'h na': {'h': 0.3333333333333333, 'i': 0.6666666666666666}, 'i th': {'a': 1.0}, ' tha': {' ': 1.0}, 'tha ': {'s': 1.0}, 'ha s': {'a': 1.0}, 'a sa': {'r': 1.0}, 'ar p': {'a': 1.0}, 'r pa': {'r': 1.0}, 'par\\n': {'y': 1.0}, 'ar\\ny': {'a': 1.0}, 'r\\nya': {'h': 1.0}, '\\nyah': {'a': 1.0}, 'yaha': {'a': 1.0}, 'ahaa': {'n': 1.0}, 'aan ': {'p': 0.5, 'm': 0.5}, 'n pa': {'r': 1.0}, 'par ': {'a': 1.0}, 'ar a': {'a': 1.0}, 'r aa': {'y': 1.0}, 'ya k': {'h': 1.0}, ' khu': {'d': 1.0}, 'khud': {' ': 1.0}, 'hud ': {'k': 1.0}, 'ud k': {'i': 1.0}, 'd ki': {' ': 1.0}, 'ki m': {'e': 1.0}, 'i me': {'h': 1.0}, ' meh': {'n': 1.0}, 'mehn': {'a': 1.0}, 'ehna': {'t': 1.0}, 'hnat': {' ': 1.0}, 'nat ': {'s': 0.5, 'k': 0.5}, 'at s': {'e': 1.0}, 't se': {' ': 1.0}, 'se m': {'a': 1.0}, 'e ma': {'i': 1.0}, ' mai': {'n': 1.0}, 'main': {'\\n': 1.0}, 'ain\\n': {'j': 1.0}, 'in\\nj': {'i': 1.0}, 'n\\nji': {'t': 1.0}, 'itni': {' ': 1.0}, 'tni ': {'t': 0.5, 'r': 0.5}, 'ni t': {'a': 1.0}, 'i ta': {'a': 1.0}, ' taa': {'k': 1.0}, 'taak': {'a': 1.0}, 'aaka': {'t': 1.0}, 'akat': {' ': 1.0}, 'kat ': {'k': 0.6, 'n': 0.2, 'd': 0.2}, 'at k': {'i': 1.0}, 't ki': {'s': 0.09090909090909091, ' ': 0.36363636363636365, '\\n': 0.36363636363636365, ',': 0.18181818181818182}, ' kis': {'m': 1.0}, 'kism': {'a': 1.0}, 'isma': {'t': 1.0}, 'smat': {' ': 1.0}, 'mat ': {'m': 0.6666666666666666, 'n': 0.3333333333333333}, 'at m': {'e': 1.0}, 't me': {'i': 1.0}, 'ein ': {'n': 0.5, 'h': 0.5}, 'in n': {'a': 1.0}, 'n na': {'h': 1.0}, 'ahi\\n': {'u': 1.0}, 'hi\\nu': {'t': 1.0}, 'i\\nut': {'n': 1.0}, 'utni': {' ': 1.0}, 'i re': {'h': 1.0}, ' reh': {'m': 1.0}, 'rehm': {'a': 1.0}, 'ehma': {'t': 1.0}, 'hmat': {' ': 1.0}, 'in h': {'a': 1.0}, 'n ha': {'i': 1.0}, 'ai\\np': {'h': 1.0}, 'i\\nph': {'i': 1.0}, '\\nphi': {'r': 1.0}, 'phir': {' ': 1.0}, 'hir ': {'b': 1.0}, 'ir b': {'h': 1.0}, 'r bh': {'i': 1.0}, 'hi l': {'a': 1.0}, 'i la': {'d': 1.0}, ' lad': {'k': 1.0}, 'ladk': {'a': 1.0}, 'adka': {' ': 1.0}, 'dka ': {'s': 1.0}, 'ka s': {'e': 1.0}, 'a se': {'h': 1.0}, ' seh': {'m': 1.0}, 'sehm': {'a': 1.0}, 'at n': {'a': 0.6666666666666666, 'e': 0.3333333333333333}, 't na': {'h': 1.0}, 'ahin': {' ': 1.0}, 'hin ': {'h': 1.0}, 'ki h': {'a': 1.0}, 'hair': {'a': 1.0}, 'aira': {'t': 1.0}, 'irat': {' ': 1.0}, 'rat ': {'n': 0.25, 'y': 0.25, 'k': 0.5}, 'ai\\nz': {'a': 1.0}, 'i\\nza': {'r': 1.0}, '\\nzar': {'o': 1.0}, 'zaro': {'o': 1.0}, 'aroo': {'r': 1.0}, 'roor': {'a': 1.0}, 'oora': {'t': 1.0}, 'orat': {' ': 1.0}, 'at y': {'a': 0.5, 'e': 0.5}, 't ya': {'h': 1.0}, ' yah': {'a': 1.0}, 'an m': {'a': 1.0}, 'n ma': {'r': 1.0}, ' mar': {'z': 1.0}, 'marz': {'i': 1.0}, 'arzi': {' ': 1.0}, 'rzi ': {'k': 1.0}, 'zi k': {'i': 1.0}, 'i ki': {'\\n': 1.0}, 'i\\nau': {'r': 1.0}, '\\naur': {' ': 1.0}, 'aur ': {'j': 1.0}, 'ur j': {'u': 1.0}, 'r ju': {'r': 1.0}, ' jur': {'r': 1.0}, 'jurr': {'a': 1.0}, 'urra': {'t': 1.0}, 'rrat': {' ': 1.0}, 'ai\\n ': {'\\n': 1.0}, 'i\\n \\n': {'t': 0.5, 'i': 0.5}, ' \\nta': {'a': 1.0}, '\\ntaa': {'k': 1.0}, 'hai,': {' ': 1.0}, 'ai, ': {'a': 1.0}, 'i, a': {'a': 0.5, 'm': 0.5}, ', aa': {'f': 1.0}, ' aaf': {'a': 1.0}, 'aafa': {'t': 1.0}, 'afat': {' ': 1.0}, 'fat ': {'k': 1.0}, 'ki\\nh': {'i': 1.0}, 'i\\nhi': {'m': 1.0}, '\\nhim': {'a': 1.0}, 'hima': {'a': 1.0}, 'imaa': {'k': 1.0}, 'maak': {'a': 1.0}, ' ki,': {' ': 1.0}, 'ki, ': {'i': 0.5, 'a': 0.5}, 'i, i': {'b': 1.0}, ', ib': {'a': 1.0}, ' iba': {'a': 1.0}, 'ibaa': {'d': 1.0}, 'baad': {'a': 1.0}, 'aada': {'t': 1.0}, 'adat': {' ': 1.0}, 'dat ': {'k': 1.0}, 'i\\nad': {'a': 1.0}, '\\nada': {'l': 1.0}, 'adal': {'a': 1.0}, 'dala': {'t': 1.0}, 'alat': {' ': 1.0}, 'lat ': {'y': 1.0}, 't ye': {'h': 1.0}, ' yeh': {' ': 1.0}, 'eh h': {'a': 1.0}, 'h ha': {'i': 1.0}, 'ai c': {'h': 1.0}, ' cha': {'h': 1.0}, 'chah': {'a': 1.0}, 'haha': {'t': 1.0}, 'ahat': {' ': 1.0}, 'hat ': {'k': 1.0}, 'ki\\nm': {'o': 1.0}, 'i\\nmo': {'h': 1.0}, '\\nmoh': {'o': 1.0}, 'moho': {'b': 1.0}, 'ohob': {'b': 1.0}, 'hobb': {'a': 1.0}, 'obba': {'t': 1.0}, 'bbat': {' ': 1.0}, 'bat ': {'k': 1.0}, ', am': {'a': 1.0}, ' ama': {'a': 1.0}, 'amaa': {'n': 1.0}, 'maan': {'a': 1.0}, 'anat': {' ': 1.0}, 'ki\\nj': {'e': 1.0}, 'i\\nje': {'e': 1.0}, '\\njee': {'t': 1.0}, 'jeet': {'n': 1.0}, 'eetn': {'e': 1.0}, 'etne': {' ': 1.0}, 'tne ': {'k': 1.0}, 'i ab': {' ': 1.0}, 'ab a': {'a': 1.0}, 'b aa': {'d': 1.0}, ' aad': {'a': 1.0}, 'ai\\ns': {'h': 1.0}, 'i\\nsh': {'o': 1.0}, '\\nsho': {'h': 1.0}, 'shoh': {'r': 1.0}, 'hohr': {'a': 1.0}, 'ohra': {'t': 1.0}, 'hrat': {' ': 1.0}, 'ab l': {'a': 1.0}, 'b la': {'a': 1.0}, ' laa': {'l': 1.0}, 'laal': {'a': 1.0}, 'aala': {'c': 1.0}, 'alac': {'h': 1.0}, 'lach': {' ': 1.0}, 'ach ': {'n': 1.0}, 'ch n': {'a': 1.0}, ' nai': {' ': 1.0}, 'nai ': {'h': 1.0}, 'ai h': {'a': 1.0}, 'ai\\nt': {'e': 1.0}, 'i\\nte': {'r': 1.0}, '\\nter': {'e': 1.0}, 'tere': {' ': 1.0}, 're b': {'h': 1.0}, 'e bh': {'a': 1.0}, ' bha': {'i': 1.0}, 'bhai': {' ': 1.0}, 'ai j': {'a': 1.0}, 'i ja': {'i': 1.0}, 'sa k': {'o': 1.0}, 'a ko': {'y': 1.0}, ' koy': {'i': 1.0}, 'koyi': {' ': 1.0}, 'oyi ': {'h': 1.0}, 'yi h': {'a': 1.0}, ' har': {'d': 0.5, 'k': 0.5}, 'hard': {'’': 1.0}, 'ard’': {'c': 1.0}, 'rd’c': {'h': 1.0}, 'd’ch': {' ': 1.0}, '’ch ': {'n': 1.0}, '\\n \\ni': {'s': 1.0}, ' \\nis': {'s': 1.0}, '\\niss': {' ': 1.0}, 'iss ': {'h': 1.0}, 'ss h': {'a': 1.0}, 's ha': {'r': 1.0}, 'hark': {'a': 1.0}, 'arka': {'t': 1.0}, 'rkat': {' ': 1.0}, 't ne': {' ': 1.0}, ' ne ': {'h': 1.0}, 'ne h': {'i': 1.0}, 'e hi': {' ': 1.0}, 'hi b': {'a': 1.0}, 'i ba': {'r': 1.0}, ' bar': {'k': 1.0}, 'bark': {'a': 1.0}, 'at d': {'i': 1.0}, 't di': {' ': 1.0}, ' di ': {'h': 1.0}, 'di h': {'a': 1.0}, 'yon?': {'\\n': 1.0}, 'on?\\n': {' ': 1.0}, 'n?\\n ': {'\\n': 1.0}, '?\\n \\n': {'t': 1.0}, 'ga\\nk': {'y': 1.0}, 'a\\nky': {'a': 1.0}, 'ya t': {'u': 1.0}, 'a tu': {' ': 1.0}, 'tu g': {'h': 1.0}, 'u gh': {'a': 1.0}}\n"
     ]
    }
   ],
   "source": [
    "print(model)"
   ]
  },
  {
   "cell_type": "markdown",
   "metadata": {},
   "source": [
    "# Generate Text at Text Time!!"
   ]
  },
  {
   "cell_type": "code",
   "execution_count": 67,
   "metadata": {},
   "outputs": [],
   "source": [
    "import numpy as np"
   ]
  },
  {
   "cell_type": "code",
   "execution_count": 68,
   "metadata": {},
   "outputs": [],
   "source": [
    "def sampleNext(ctx,T,k):\n",
    "    ctx = ctx[-k:]\n",
    "    if T.get(ctx) is None:\n",
    "        return \" \"\n",
    "    possible_chars = list(T[ctx].keys())\n",
    "    possible_probs = list(T[ctx].values())\n",
    "    \n",
    "    return np.random.choice(possible_chars,p = possible_probs)"
   ]
  },
  {
   "cell_type": "code",
   "execution_count": 69,
   "metadata": {},
   "outputs": [],
   "source": [
    "def generateText(starting_sen,k =4 ,maxlen = 2000):\n",
    "    sentence = starting_sen\n",
    "    ctx = starting_sen[-k:]\n",
    "    \n",
    "    for i in range(maxlen):\n",
    "        predicted_char = sampleNext(ctx,model,k)\n",
    "        sentence += predicted_char\n",
    "        ctx = sentence[-k:]\n",
    "        \n",
    "    return sentence"
   ]
  },
  {
   "cell_type": "code",
   "execution_count": 70,
   "metadata": {},
   "outputs": [],
   "source": [
    "New_song = generateText(data) "
   ]
  },
  {
   "cell_type": "code",
   "execution_count": 71,
   "metadata": {},
   "outputs": [
    {
     "name": "stdout",
     "output_type": "stream",
     "text": [
      "apna time aayega\n",
      "uth ja apni raakh se\n",
      "tu udd ja ab talaash mein\n",
      "parwaaz dekh parwane ki\n",
      "aasman bhi sar uthayega\n",
      "aayega apna time aayega\n",
      "mere jaisa shaana lala\n",
      "tujhe na mil payega\n",
      " \n",
      "yeh shabdon ka jwala\n",
      "meri bediyan pighlayega\n",
      "jitna toone boya hai tu\n",
      "utna hi to khaayega\n",
      "aisa mera khwaab hai\n",
      "jo darr ko bhi satayega\n",
      "zinda mera khwaab\n",
      "ab kaise tu dafnayega\n",
      " \n",
      "ab hausle se jeene de\n",
      "ab khauf nahi hai seene mein\n",
      "har raaste ko cheerenge\n",
      "hum kaamyabi chheenenge\n",
      "sab kuchh mila paseene se\n",
      "matlab bana ab jeene mein\n",
      " \n",
      "kyon\n",
      "kyon ki apna time aayega\n",
      " \n",
      "tu nanga hi to aaya hai\n",
      "kya ghanta lekar jaayega\n",
      "apna time aayega\n",
      "apna time aayega\n",
      "apna time aayega x (2)\n",
      " \n",
      "tu nanga hi to aaya hai\n",
      "kya ghanta lekar..\n",
      " \n",
      "kissi ka hath nahi tha sar par\n",
      "yahaan par aaya khud ki mehnat se main\n",
      "jitni taakat kismat mein nahi\n",
      "utni rehmat mein hai\n",
      "phir bhi ladka sehmat nahin hai\n",
      "kyon ki hairat nahi hai\n",
      "zaroorat yahaan marzi ki\n",
      "aur jurrat ki hai\n",
      " \n",
      "taakat ki hai, aafat ki\n",
      "himaakat ki, ibaadat ki\n",
      "adalat yeh hai chahat ki\n",
      "mohobbat ki, amaanat ki\n",
      "jeetne ki ab aadat ki hai\n",
      "shohrat ki ab laalach nai hai\n",
      "tere bhai jaisa koyi hard’ch nai hai\n",
      " \n",
      "iss harkat ne hi barkat di hai\n",
      "kyon?\n",
      " \n",
      "tu nanga hi to aaya hai\n",
      "kya ghanta lekar jaayega\n",
      "apna time aayega\n",
      "apna time aayega\n",
      "apna time aayega\n",
      " \n",
      "tu nanga hi to aaya hai\n",
      "kya ghanta lekar jaayega\n",
      "kya tu ghanta lekar jaayega\n",
      "apna time aayega\n",
      "apna time aayega\n",
      "apna time aaya hai\n",
      "kya ghanta lekar..\n",
      " \n",
      "kyon ki hai\n",
      " \n",
      "iss hard’ch nahi hai\n",
      "kya tu dafnayega apna time aayega x (2)\n",
      " \n",
      "tu nanga hi barkat ki mehnat se jeene mein\n",
      " \n",
      "kyon?\n",
      " \n",
      "taakat kismat mein\n",
      "parwaaz dekh par aayega x (2)\n",
      " \n",
      "taakat ki ab laalach nai hai\n",
      "phir bhi sar uthayega\n",
      "apna time aayega\n",
      " \n",
      "tu nanga hi to aayega\n",
      "aayega\n",
      "apna time aayega\n",
      " \n",
      "tu nanga hi to khaayega\n",
      " \n",
      "yeh hairat yahaana ab talaash mein\n",
      "har raaste ko bhi satayega\n",
      "apna toone boya hai\n",
      "shohrat ki\n",
      "jeetne ki\n",
      "mohobbat ki hai\n",
      "kya ghanta lekar jaayega\n",
      " \n",
      "tu nanga hi to aaya khwaab hausle se\n",
      "matlab bana ab laalach nai hai, aafat ki, ibaadat ki hai\n",
      "kya ghanta lekar..\n",
      " \n",
      "kyon ki apna time aaya hath nai hai\n",
      "phir bhi satayega\n",
      "apna time aayega\n",
      "apna time aayega\n",
      " \n",
      "yeh hai\n",
      "shohrat yahaan parwane ki hai\n",
      "kya ghanta lekar jaayega\n",
      "zinda mera khwaab hausle se\n",
      "matlab bana ab laalach nai hai\n",
      "kya ghanta lekar..\n",
      " \n",
      "kissi ka jwala\n",
      "meri bediyan par\n",
      "yahaan marzi ki\n",
      "adalat yahaana ab jeenenge\n",
      "sab khaayega\n",
      "apna time aaya hai\n",
      "kya tu dafnayega\n",
      " \n",
      "ab kuchh mil payega\n",
      "apna time aaya hai\n",
      "kyon?\n",
      " \n",
      "tu nanga hi to aayega\n",
      "jitna hi to aayega\n",
      "apna time aayega\n",
      "apna time aaya hath nai hai\n",
      " \n",
      "iss harkat ne hi to khauf nahin hai, amaanat ki mehnat se jeene de\n",
      "ab kuchh mil payega apna time aaya hath nai hai\n",
      " \n",
      "iss hard’ch nahi hai\n",
      "kya tu ghanta lekar jaayega\n",
      " \n",
      "tu nanga hi to aayega\n",
      " \n",
      "yeh shabdon ka jwala\n",
      "meri bediyan parwaaz dekh par aayega\n",
      "apna time aaya hath nai hai\n",
      "kyon ki hai\n",
      "kya ghanta lekar jaayega\n",
      " \n",
      "yeh hai\n",
      "jo darr ko cheerenge\n",
      "sab kuchh mila paseenenge\n",
      "hum kaamyabi chahat kismat mein\n",
      "parwaaz dekh par aayega\n",
      "apna time aayega\n",
      "aayega\n",
      "apna time aayega\n",
      "apna time aayega\n",
      "meri bediyan par aayega\n",
      " \n",
      "ab kaise tu ghanta lekar jaayega\n",
      "meri bediyan pighlayega\n",
      " \n",
      "ab kuchh mila paseene mein\n",
      "parwane ki\n",
      "himaakat ki\n",
      "aasman bhi ladka sehmat mein\n",
      "har raakh se\n",
      "matlab bana lala\n",
      "tujhe na mil payega\n",
      "apna time aayega\n",
      " \n",
      "ab kaise tu dafnayega\n",
      " \n",
      "taakat ki mehnat se main\n",
      "jitna time aayega\n",
      "zinda mera khwaab\n",
      "ab kuchh mil payega\n",
      " \n",
      "tu nanga hi to khaayega apni rehmat mein nahi hairat \n"
     ]
    }
   ],
   "source": [
    "print(New_song)"
   ]
  },
  {
   "cell_type": "code",
   "execution_count": 74,
   "metadata": {},
   "outputs": [
    {
     "data": {
      "text/plain": [
       "'output_file = \"Lyric_output.txt\"\\ndef loadFile(output_file):\\n    with open(output_file,\"w+\",encoding = \\'utf8\\') as f:\\n        f.write(New_song)'"
      ]
     },
     "execution_count": 74,
     "metadata": {},
     "output_type": "execute_result"
    }
   ],
   "source": [
    "\"\"\"output_file = \"Lyric_output.txt\"\n",
    "def loadFile(output_file):\n",
    "    with open(output_file,\"w+\",encoding = 'utf8') as f:\n",
    "        f.write(New_song)\"\"\"\n",
    "    "
   ]
  },
  {
   "cell_type": "code",
   "execution_count": null,
   "metadata": {},
   "outputs": [],
   "source": []
  }
 ],
 "metadata": {
  "kernelspec": {
   "display_name": "Python 3",
   "language": "python",
   "name": "python3"
  },
  "language_info": {
   "codemirror_mode": {
    "name": "ipython",
    "version": 3
   },
   "file_extension": ".py",
   "mimetype": "text/x-python",
   "name": "python",
   "nbconvert_exporter": "python",
   "pygments_lexer": "ipython3",
   "version": "3.6.6"
  }
 },
 "nbformat": 4,
 "nbformat_minor": 2
}
